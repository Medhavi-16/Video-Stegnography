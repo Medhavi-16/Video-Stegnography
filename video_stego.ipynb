{
  "nbformat": 4,
  "nbformat_minor": 0,
  "metadata": {
    "colab": {
      "name": "video-stego.ipynb",
      "provenance": [],
      "include_colab_link": true
    },
    "kernelspec": {
      "name": "python3",
      "display_name": "Python 3"
    },
    "language_info": {
      "name": "python"
    }
  },
  "cells": [
    {
      "cell_type": "markdown",
      "metadata": {
        "id": "view-in-github",
        "colab_type": "text"
      },
      "source": [
        "<a href=\"https://colab.research.google.com/github/Medhavi-16/Video-Stegnography/blob/main/video_stego.ipynb\" target=\"_parent\"><img src=\"https://colab.research.google.com/assets/colab-badge.svg\" alt=\"Open In Colab\"/></a>"
      ]
    },
    {
      "cell_type": "code",
      "metadata": {
        "colab": {
          "base_uri": "https://localhost:8080/",
          "height": 731
        },
        "id": "af0nglog1lw3",
        "outputId": "c863fe04-5256-4640-aaab-f735a2b4af43"
      },
      "source": [
        "!pip install stegano\n",
        "!pip install pyaes\n",
        "!pip install pbkdf2"
      ],
      "execution_count": null,
      "outputs": [
        {
          "output_type": "stream",
          "text": [
            "Collecting stegano\n",
            "\u001b[?25l  Downloading https://files.pythonhosted.org/packages/ad/9f/fe37b384374b730d43cb1d8ea520422d58149ed92b9bb6954017de99505a/stegano-0.9.8-py3-none-any.whl (300kB)\n",
            "\u001b[K     |████████████████████████████████| 307kB 6.6MB/s \n",
            "\u001b[?25hCollecting pillow<7.0.0,>=6.2.1\n",
            "\u001b[?25l  Downloading https://files.pythonhosted.org/packages/c3/3f/03375124676ab49ca6e6917c0f1f663afb8354d5d24e12f4fe4587a39ae2/Pillow-6.2.2-cp37-cp37m-manylinux1_x86_64.whl (2.1MB)\n",
            "\u001b[K     |████████████████████████████████| 2.1MB 18.7MB/s \n",
            "\u001b[?25hCollecting crayons<0.4.0,>=0.3.0\n",
            "  Downloading https://files.pythonhosted.org/packages/a6/19/185ee40d06e3b67f9e92c45cc6ff30f4573f610a8b575e4a02629a34705a/crayons-0.3.1-py2.py3-none-any.whl\n",
            "Collecting piexif<2.0.0,>=1.1.3\n",
            "  Downloading https://files.pythonhosted.org/packages/2c/d8/6f63147dd73373d051c5eb049ecd841207f898f50a5a1d4378594178f6cf/piexif-1.1.3-py2.py3-none-any.whl\n",
            "Collecting colorama\n",
            "  Downloading https://files.pythonhosted.org/packages/44/98/5b86278fbbf250d239ae0ecb724f8572af1c91f4a11edf4d36a206189440/colorama-0.4.4-py2.py3-none-any.whl\n",
            "\u001b[31mERROR: bokeh 2.3.1 has requirement pillow>=7.1.0, but you'll have pillow 6.2.2 which is incompatible.\u001b[0m\n",
            "\u001b[31mERROR: albumentations 0.1.12 has requirement imgaug<0.2.7,>=0.2.5, but you'll have imgaug 0.2.9 which is incompatible.\u001b[0m\n",
            "Installing collected packages: pillow, colorama, crayons, piexif, stegano\n",
            "  Found existing installation: Pillow 7.1.2\n",
            "    Uninstalling Pillow-7.1.2:\n",
            "      Successfully uninstalled Pillow-7.1.2\n",
            "Successfully installed colorama-0.4.4 crayons-0.3.1 piexif-1.1.3 pillow-6.2.2 stegano-0.9.8\n"
          ],
          "name": "stdout"
        },
        {
          "output_type": "display_data",
          "data": {
            "application/vnd.colab-display-data+json": {
              "pip_warning": {
                "packages": [
                  "PIL"
                ]
              }
            }
          },
          "metadata": {
            "tags": []
          }
        },
        {
          "output_type": "stream",
          "text": [
            "Collecting pyaes\n",
            "  Downloading https://files.pythonhosted.org/packages/44/66/2c17bae31c906613795711fc78045c285048168919ace2220daa372c7d72/pyaes-1.6.1.tar.gz\n",
            "Building wheels for collected packages: pyaes\n",
            "  Building wheel for pyaes (setup.py) ... \u001b[?25l\u001b[?25hdone\n",
            "  Created wheel for pyaes: filename=pyaes-1.6.1-cp37-none-any.whl size=26346 sha256=bed7bce08704cb8ddc7203c31257478557bbf227918e5b5d6415642cb2ce5e23\n",
            "  Stored in directory: /root/.cache/pip/wheels/bd/cf/7b/ced9e8f28c50ed666728e8ab178ffedeb9d06f6a10f85d6432\n",
            "Successfully built pyaes\n",
            "Installing collected packages: pyaes\n",
            "Successfully installed pyaes-1.6.1\n",
            "Collecting pbkdf2\n",
            "  Downloading https://files.pythonhosted.org/packages/02/c0/6a2376ae81beb82eda645a091684c0b0becb86b972def7849ea9066e3d5e/pbkdf2-1.3.tar.gz\n",
            "Building wheels for collected packages: pbkdf2\n",
            "  Building wheel for pbkdf2 (setup.py) ... \u001b[?25l\u001b[?25hdone\n",
            "  Created wheel for pbkdf2: filename=pbkdf2-1.3-cp37-none-any.whl size=5104 sha256=8f6f6531929ebe73f1e9c3598e65bed67803ab54ee482c5d8bd2f9df06f8f3d6\n",
            "  Stored in directory: /root/.cache/pip/wheels/8e/62/b9/0bf3a68f2111e169253ec4d2bbdc303c46777b7fc99bbbf230\n",
            "Successfully built pbkdf2\n",
            "Installing collected packages: pbkdf2\n",
            "Successfully installed pbkdf2-1.3\n"
          ],
          "name": "stdout"
        }
      ]
    },
    {
      "cell_type": "code",
      "metadata": {
        "colab": {
          "base_uri": "https://localhost:8080/"
        },
        "id": "HkrwZESqA9XI",
        "outputId": "bd08c2bd-8edb-4fa5-be2e-ba7ef1d7713a"
      },
      "source": [
        "import pyaes, pbkdf2, binascii, os, secrets\n",
        "password = \"s3cr3t*c0d3\"\n",
        "passwordSalt = os.urandom(16)\n",
        "key = pbkdf2.PBKDF2(password, passwordSalt).read(32)\n",
        "print('AES encryption key:', binascii.hexlify(key))\n",
        "iv = secrets.randbits(256)"
      ],
      "execution_count": 1,
      "outputs": [
        {
          "output_type": "stream",
          "text": [
            "AES encryption key: b'f986a760e9bcd91c89b45ff84ae9d143ea12fb25ad8dec6a847fe7abc2e8863c'\n"
          ],
          "name": "stdout"
        }
      ]
    },
    {
      "cell_type": "code",
      "metadata": {
        "id": "Y5ITIN6c1aYJ",
        "colab": {
          "base_uri": "https://localhost:8080/"
        },
        "outputId": "56af19d8-25f3-40fc-be5c-22e30da87be4"
      },
      "source": [
        "from stegano import lsb\n",
        "from os.path import isfile,join\n",
        "\n",
        "import time    \n",
        "import cv2\n",
        "import numpy as np\n",
        "import math\n",
        "import os\n",
        "import shutil\n",
        "from subprocess import call,STDOUT\n",
        "import zlib\n",
        "\n",
        "def split_string(s_str,count=10):\n",
        "    per_c=math.ceil(len(s_str)/count)\n",
        "    c_cout=0\n",
        "    out_str=''\n",
        "    split_list=[]\n",
        "    for s in s_str:\n",
        "        out_str+=s\n",
        "        c_cout+=1\n",
        "        if c_cout == per_c:\n",
        "            split_list.append(out_str)\n",
        "            out_str=''\n",
        "            c_cout=0\n",
        "    if c_cout!=0:\n",
        "        split_list.append(out_str)\n",
        "    return split_list\n",
        "\n",
        "def frame_extraction(video):\n",
        "    if not os.path.exists(\"./tmp\"):\n",
        "        os.makedirs(\"tmp\")\n",
        "    temp_folder=\"./tmp\"\n",
        "    print(\"[INFO] tmp directory is created\")\n",
        "\n",
        "    vidcap = cv2.VideoCapture(video)\n",
        "    count = 0\n",
        "\n",
        "    while True:\n",
        "        success, image = vidcap.read()\n",
        "        if not success:\n",
        "            break\n",
        "        cv2.imwrite(os.path.join(temp_folder, \"{:d}.png\".format(count)), image)\n",
        "        count += 1\n",
        "\n",
        "\n",
        "def compress(s_str):\n",
        "    compressed_data=zlib.compress(s_str.encode('utf-8'),2)\n",
        "    compressed_data_text=binascii.hexlify(compressed_data).decode('utf-8')\n",
        "    return compressed_data_text\n",
        "\n",
        "def decompress(s_str):\n",
        "    decompressed_data=zlib.decompress(binascii.unhexlify(s_str.encode('utf-8'))).decode('utf-8')\n",
        "    return decompressed_data\n",
        "\n",
        "def encrypt(s_str):\n",
        "    plaintext = s_str\n",
        "    aes = pyaes.AESModeOfOperationCTR(key, pyaes.Counter(iv))\n",
        "    ciphertext = aes.encrypt(plaintext)\n",
        "    ans=binascii.hexlify(ciphertext)\n",
        "    print('Encrypted:', ans)\n",
        "    print(type(ans))\n",
        "    ans1=ans.decode('utf-8')\n",
        "    print(ans1)\n",
        "    print(type(ans1))\n",
        "    return ans1\n",
        "\n",
        "\n",
        "def decrypt(s_str):\n",
        "    aes = pyaes.AESModeOfOperationCTR(key, pyaes.Counter(iv))\n",
        "    decrypted = aes.decrypt(binascii.unhexlify(s_str.encode('utf-8')))\n",
        "    print('Decrypted:', decrypted)\n",
        "    return decrypted.decode('utf-8')\n",
        "    \n",
        "def encode_string(input_string,root=\"./tmp/\"):\n",
        "    ans=compress(input_string)\n",
        "    ans=encrypt(ans)\n",
        "    split_string_list=split_string(ans)\n",
        "    for i in range(0,len(split_string_list)):\n",
        "        f_name=\"{}{}.png\".format(root,i)\n",
        "        secret_enc=lsb.hide(f_name,split_string_list[i])\n",
        "        secret_enc.save(f_name)\n",
        "        print(\"[INFO] frame {} holds {}\".format(f_name,split_string_list[i]))\n",
        "def decode_string(video):\n",
        "    frame_extraction(video)\n",
        "    secret=[]\n",
        "    root=\"./tmp/\"\n",
        "    for i in range(len(os.listdir(root))):\n",
        "        f_name=\"{}{}.png\".format(root,i)\n",
        "        secret_dec=lsb.reveal(f_name)\n",
        "        if secret_dec == None:\n",
        "            break\n",
        "        secret.append(secret_dec)\n",
        "    \n",
        "    s_str = ''.join([i for i in secret])\n",
        "    print(decompress(decrypt(s_str)))\n",
        "    clean_tmp()\n",
        "\n",
        "def clean_tmp(path=\"./tmp\"):\n",
        "    if os.path.exists(path):\n",
        "        shutil.rmtree(path)\n",
        "        print(\"[INFO] tmp files are cleaned up\")\n",
        "\n",
        "def main():\n",
        "    input_string = input(\"Enter the input string :\")\n",
        "    f_name=input(\"enter the name of video\")\n",
        "    frame_extraction(f_name)\n",
        "    call([\"ffmpeg\", \"-i\",f_name, \"-q:a\", \"0\", \"-map\", \"a\", \"tmp/audio.mp3\", \"-y\"],stdout=open(os.devnull, \"w\"), stderr=STDOUT)\n",
        "    \n",
        "    encode_string(input_string)\n",
        "    call([\"ffmpeg\", \"-i\", \"tmp/%d.png\" , \"-vcodec\", \"png\", \"tmp/video.mov\", \"-y\"],stdout=open(os.devnull, \"w\"), stderr=STDOUT)\n",
        "    \n",
        "    call([\"ffmpeg\", \"-i\", \"tmp/video.mov\", \"-i\", \"tmp/audio.mp3\", \"-codec\", \"copy\", \"video.mov\", \"-y\"],stdout=open(os.devnull, \"w\"), stderr=STDOUT)\n",
        "    clean_tmp()\n",
        "if __name__ == \"__main__\":\n",
        "    while True:\n",
        "        print(\"1.Hide a message in video 2.Reveal the secret from video\")\n",
        "        print(\"any other value to exit\")\n",
        "        choice = input()\n",
        "        if choice == '1':\n",
        "            main()\n",
        "        elif choice == '2':\n",
        "            decode_string(input(\"enter the name of video with extension\"))\n",
        "        else:\n",
        "            break"
      ],
      "execution_count": null,
      "outputs": [
        {
          "output_type": "stream",
          "text": [
            "1.Hide a message in video 2.Reveal the secret from video\n",
            "any other value to exit\n",
            "1\n",
            "Enter the input string :Lorem ipsum dolor sit amet, consectetur adipiscing elit, sed do eiusmod tempor incididunt ut labore et dolore magna aliqua. Neque egestas congue quisque egestas diam in arcu. Fusce id velit ut tortor pretium. Fringilla urna porttitor rhoncus dolor purus non enim. Est placerat in egestas erat imperdiet. Viverra maecenas accumsan lacus vel facilisis. Habitasse platea dictumst quisque sagittis purus. Quam adipiscing vitae proin sagittis nisl rhoncus mattis rhoncus. Blandit cursus risus at ultrices mi tempus imperdiet nulla. Nulla pellentesque dignissim enim sit amet venenatis urna cursus. Donec et odio pellentesque diam volutpat commodo sed. Nisi quis eleifend quam adipiscing vitae proin sagittis. Lorem ipsum dolor sit amet consectetur adipiscing elit pellentesque. Tempus imperdiet nulla malesuada pellentesque elit. Dis parturient montes nascetur ridiculus mus mauris vitae.  Pharetra vel turpis nunc eget lorem. Lectus proin nibh nisl condimentum id venenatis a condimentum vitae. Massa massa ultricies mi quis hendrerit dolor magna. Dignissim diam quis enim lobortis scelerisque fermentum. Sollicitudin aliquam ultrices sagittis orci a scelerisque. Proin sed libero enim sed faucibus turpis. Dolor magna eget est lorem ipsum dolor sit. Elit at imperdiet dui accumsan sit amet. Ultrices sagittis orci a scelerisque purus semper eget. Morbi tristique senectus et netus et malesuada fames ac turpis. Pulvinar sapien et ligula ullamcorper malesuada proin libero. At quis risus sed vulputate. Dignissim enim sit amet venenatis. Quam quisque id diam vel quam elementum pulvinar etiam non. Nullam eget felis eget nunc. Iaculis nunc sed augue lacus viverra. Ut placerat orci nulla pellentesque.  Quam lacus suspendisse faucibus interdum. Turpis tincidunt id aliquet risus. Tortor pretium viverra suspendisse potenti nullam ac tortor vitae. Dignissim sodales ut eu sem integer vitae justo eget magna. Volutpat blandit aliquam etiam erat velit scelerisque in dictum. Pretium quam vulputate dignissim suspendisse in est ante in. Eros donec ac odio tempor orci dapibus. Dolor sit amet consectetur adipiscing elit ut. Purus ut faucibus pulvinar elementum integer enim. Adipiscing at in tellus integer feugiat scelerisque varius morbi enim. Velit egestas dui id ornare arcu odio ut sem. Pellentesque massa placerat duis ultricies lacus sed turpis tincidunt id. In hac habitasse platea dictumst vestibulum rhoncus est. Sit amet nisl suscipit adipiscing bibendum. Cras fermentum odio eu feugiat. Lectus sit amet est placerat in egestas. Eu facilisis sed odio morbi quis.  Nec tincidunt praesent semper feugiat nibh sed. Tortor consequat id porta nibh venenatis cras sed felis eget. Morbi blandit cursus risus at ultrices mi tempus imperdiet nulla. Iaculis nunc sed augue lacus viverra vitae congue. Iaculis urna id volutpat lacus laoreet non curabitur gravida arcu. Consectetur libero id faucibus nisl tincidunt eget nullam non. Arcu risus quis varius quam. Nunc pulvinar sapien et ligula ullamcorper malesuada proin libero. Dolor sit amet consectetur adipiscing elit pellentesque habitant. Integer feugiat scelerisque varius morbi enim nunc. In nibh mauris cursus mattis molestie a iaculis. Libero nunc consequat interdum varius sit amet mattis. Nullam ac tortor vitae purus faucibus ornare suspendisse sed.  Arcu non odio euismod lacinia at quis risus sed. Cursus risus at ultrices mi tempus imperdiet nulla malesuada pellentesque. Condimentum mattis pellentesque id nibh. Morbi tincidunt ornare massa eget egestas. Urna molestie at elementum eu facilisis sed odio. Lorem sed risus ultricies tristique nulla. Urna condimentum mattis pellentesque id nibh. Vitae sapien pellentesque habitant morbi tristique senectus et netus et. Consectetur adipiscing elit pellentesque habitant. Etiam erat velit scelerisque in dictum. Porta nibh venenatis cras sed felis eget velit. Odio eu feugiat pretium nibh ipsum consequat nisl. A cras semper auctor neque vitae tempus quam. Cras semper auctor neque vitae. Pharetra pharetra massa massa ultricies mi quis hendrerit. Vel pretium lectus quam id leo in vitae turpis massa.\n",
            "enter the name of videoSignup.mp4\n",
            "[INFO] tmp directory is created\n",
            "Encrypted: b'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'\n",
            "<class 'bytes'>\n",
            "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\n",
            "<class 'str'>\n",
            "[INFO] frame ./tmp/0.png holds 94378e2dc777191be10006b29d0d9ec9fc222f29068a5455e5f6c564522ce52c0ee0564f191e62983c02e9d9cddfb4f330d994e5ed4581ac083ec0f383d090a581031f1815ca19e9ee499a434696db770ad5a57ded9e55c7be321d0d9481c9c97df639e0a423e63d6d99419c28b224255b3a60f4c36a242887e6455501bee90268de0bd98e10d4b6d62f187cb76d4326ae43206310e2685c7a2ec4569a0ae7cb0bda100f803cd4ea15727beb1e908ec3444322299ec45a40e6b0afd42a329269b1633aed1e43fab22ae48211e9e21823e583173393aa9ee5fbbe501c8e443906a5c62e5175b7fc97f2e9e47c76aee6a1f1d6272f318a72e57c15c679d0679412a714740462c80e9ec98d8bb5ec9d049c9183634a828889573863e004420af9ca1661caf5edc75240b46f161bc63331\n",
            "[INFO] frame ./tmp/1.png holds f8b36b8d934ce8f30f5651f13021890209cda3a9c8b58653fac7f5149149225e1c74b35717b9d309ac28ac512bae0d17893a406bc45174bd89d068b799c3d3cd9bff768dfe7cc21d4b6e8010eb081de7fd4c6143b960e7d935c8f215bee245081da664fd3c93437aa6e29624eadd0d5120609ebbaf8462f925f9a41a320bc2acd838a21716d68013904f4f751b076ea1323ba44874118cd11124b79bd0750b158c3b69ac7f910c698d7954fcdc21f15e25801ac3bd2d8c6d10d34c2eb75808ce568c71b2a2ba622466f67290e8e6cf3de2a6b57c7a6c876686b63bf1a2537e0c6276085ad44ec7bcbc890fd60fbacce8e04169c042ef699a0c182d714a277a4e5d6e42f3374c7c854bacdd0ba1c826e05318a2464fd17b17368757637bff7df4040463b2391c13648c86c7eb4a2dd0\n",
            "[INFO] frame ./tmp/2.png holds 5445494b5317d4059fc800f64b69fbb6d32c74f890d88dd6d4e51daf65edfd3491afbd32337865a0f6861d39718fd0edfc28d613fa06b9640982d12b15225c96234e386c65f19d801124964c395ec0e6de7919ebdb5237ab505bb3443fcd353ecafe05454fbc7a014db2b996f70234c3485b9ec17a79ad6681759c41ba38038eadf1b10a49d3132336946b03d63bbc7bccd0c492589a055a32209fea5d2fca933483cb769fec436aa9f559c00b9030935674517e47dc853cd396593ab4814bc52e07e01397099dcd6acffc3f8c0bf01cfc1bb1dfe45f1b4f65884d8479f6c106ffbc7e2ee6d281ae702308dfcd5d729c2bf0abaf843a2090360783a41f1ffec16a1ef833a54befb84288f7f08d4caaf7e07d9f9ad0dca84f56ea553d037d0ac2150f0d1df56534df093661d499ef64\n",
            "[INFO] frame ./tmp/3.png holds e08a4c1d4b5d5f754120b57169a54ee9d556f4f047dace066ade99710c913bb2e7a62075050c613f1f44a421b6cbdc86050cd1588673e3d3d503fadb4a82714fb061383aed639456425824adf1bae3416362d405ac642a33f1b6e6f9eca7becbb348780086f3eb8775110265487ccb1ceea54bae3fd64f79533f6b150d8deec0ef3498a1edce41d86b2f16f476f4c052bb012f11164dff4103cde347916efc400165474eace3abcd0d036be70d6ba526e60eef3fdf13e412b54ccbc173240254d6eb7a4315a1dd9a28e77361aba42ec5c4357ed16061e8081cefb826e5a7b90c6212a3d14fffe4982a9c9f5262da388a534a3f1cbdaf5c606d26b25488573927fa6dd80d55b15e1fd713bbfc376b7e05d7e0c48542e078693bc1448bb29e7a00c321addb9d9e398b785a2cf8e79c07\n",
            "[INFO] frame ./tmp/4.png holds 99e9e43ca8594e06c1611c53adfc742bb8af37853d4d30561487d7a745729a63082ecf0d20858bd50373dec71600356a543ee032278b28f1135384b3b7183bdf47619d853e7fe03c03141dfcc577e49862c808d5a67574b144ce141ce1fa2465b492450b0898c3de935eac664a41f95448b41c1fd9fec2a9b59e57b91a34fba1ee4758499c3e9389e068a89c6c3ceac8f1e466a1f89bb850f7d8525ae9fb15b8bcc26569c969ec81c4e379f95adeaf5390a51a8fadc4d53069f4e6941781f4bf5d8355d601b45debec74fbe69fc0f3642cc5b65b44c32a624b9a6ad78e5542d299ab1718aa5efc2ce6c9683813268932dde9e48089930556932c4e825382ad87dbced8cfbaa4de18a27dd115254b06e9b6b1f343246d3e2e54652aab0ab604571d5ece65d0409d57c126ec1750f1e4\n",
            "[INFO] frame ./tmp/5.png holds 56a60bf632b0c24f206d26de60058381ddef283e921a2b6a3627a42b622cafa83d79fb177304aba6c6295564e152be183d3c9ff69e83310dd27d989007d7afe74ea0cdb6f2f25240f877caba2c342df75321761532c77b84eb1de7eedec4f2bf66d41e476d0a0c9e1720752e55a9ce63c393a6955d6986c344a39f525cbb4865263d517bef751707a5d6c0e8938511e486927edaa7689bc049dc812fa776fca30b1b28758f9170fb2053a37cface8d2ad3a09479958c0ffc0871014ad60179f033f4945e003c9ea89cd1d7e6985ecc25f6b88efee19f0b1b439896c7e67353ce221fa11f665859f3f8fd729c4650e6d8295bf9467eb63bd86399d1723896723cdbd54a58c2080fbae836977b0e9e832769e38bd02f2595e99f32474011134b5891a34e7bb450ce2103db95a0287f96\n",
            "[INFO] frame ./tmp/6.png holds 92a5213628a9e4d336893a2f960458d81d6c69143774843df73ac49fc313ce125260de6f420a588187bc385474f7828ba4afe1f3aca07df503898b250b8677dc413e1525f5e30327a156e824bad116c24e6f83d0d4295ca43f1706ad515ced9e1e74741578a2cbdd3e222fea7d96b4516551971c1879b005cf50e944372328f9f1866d071d4ca5677ba03bf8bf3cd38b906dd186e983adc9afa4f89849d6eb71c35cbcebcd31891b527952118ef1641b98190db762efa15e8afd3425ff5220b2c30ab9473f3293317d39d94147eec2761d928f0abf2f240783698c0c380efbffd1c1d864b8d2a5aba916d79db83cbbd68728976b481113471b24b363a93b37fecec5ae869aa4d8cb465639ed7b15b7e0182c18d14abe8d2a1ee77f68b5049996a3ab4cbc5686746b072c732daaa551\n",
            "[INFO] frame ./tmp/7.png holds 27c8b1da9da7ec8f99363f76c2a6661f3929702b377a1ca7b82705ba330fc323336f4c90d8c111ab8d152d51f8a7e0d62185868deeb306067dadc71702c3ec957b411cf49c86808c18185dff99d9f179d8fd0279f2b68a808d984d96f5779ca59eb3f413f9e06e42aaf91579c279d7c459dfbb059cb419e2e78513bca91080e97371b804c70988c51d131c8ebee440819fddb516263237561a7eeeff082c213655e0fbea109a93774b99835034a55183320f53b427358f516635b6deb5ce5a21f0cbe1f10f4386695f878a9e7ae9122240a25e315da25156485da532cf86032a12e12ce2a38c9e49ee8193fff357e38665e28d6a4069ae3cc303dd63f6e3e7087b5a80b8ae7f53ad865168268877b8dc4f1e9afd44c8e463c35409af2c94b00fd678f1fb26750f54bd565bc42ef414\n",
            "[INFO] frame ./tmp/8.png holds d0554a3993b9e9fea3bdade79cd0c772ce0ce7aa6639bbfbc917314837b375651e9272e26772448aeea75861611905743b0db5469afabaee337b3b51a1d24a75d61d68d08357aaabf561c4f02fd5d3cb753a6d82c0eb50dd99cde1d8a80eb92c5fb56eb6abed9649979a8d280c2967b0f89dde927475fa1561a51fdee36b8fc06532621061db5f352727f1165ca9d2f7cbf8bcbd5f59c8041c20b27035d3da47f09a5bb07317188518f6c88e501050eba602a7e8939f907f056ea81fb62433a5effa695f6a83c4525a3813b9d77546b867e2487fb2973f15ca2764a770724c8c2ee61b59501de1ff146d84812016ccab8a250e908648dbe3bd8f655b0b1a9f7f4a42c4f0c98df48fc4354e97da757840377a3f62647aafcc36a1a8fafe192f52b3c8da8b10fb47a4b4b8bc9e463b18\n",
            "[INFO] frame ./tmp/9.png holds 1296a2bdcb57b00ec1e598c08aab1d6ae344e6ffb988743335ccbe617582a807cd56f65c1022d3cf870468813fa05c1e4e02a2bd5466cf4180b3bcfb5031faa54ebb46d2b19149d8c34a5f375be13daf0c072a828de85c2d55b96e5112d26a26b423d014f829fcbceb68fc9ef2c4be45821a3ef0f4a8cb1e15f45c1aa6bbd30fd2acb797f51d280bca90f96a0e481759be53c9962dfabd1691416c6d70d9f7098a14e2b07a04897d4f0a9087bde05293c413f6dbe3c7b0374033810b2cf181b7c655121f9e9a46d0e16560f7b02f722675b0be9d9befd6467811d041085305e3849bf359c931acb8406fa3a443e729ac6fedde528508dadc68e24da97f669ab1fb81c69ce8062607c23f222769c1f349487e509490a87939b3509f3bc195d8e7c980e29ef0476748db1257\n",
            "[INFO] tmp files are cleaned up\n",
            "1.Hide a message in video 2.Reveal the secret from video\n",
            "any other value to exit\n",
            "2\n",
            "enter the name of video with extensionvideo.mov\n",
            "[INFO] tmp directory is created\n",
            "Decrypted: b'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'\n",
            "Lorem ipsum dolor sit amet, consectetur adipiscing elit, sed do eiusmod tempor incididunt ut labore et dolore magna aliqua. Neque egestas congue quisque egestas diam in arcu. Fusce id velit ut tortor pretium. Fringilla urna porttitor rhoncus dolor purus non enim. Est placerat in egestas erat imperdiet. Viverra maecenas accumsan lacus vel facilisis. Habitasse platea dictumst quisque sagittis purus. Quam adipiscing vitae proin sagittis nisl rhoncus mattis rhoncus. Blandit cursus risus at ultrices mi tempus imperdiet nulla. Nulla pellentesque dignissim enim sit amet venenatis urna cursus. Donec et odio pellentesque diam volutpat commodo sed. Nisi quis eleifend quam adipiscing vitae proin sagittis. Lorem ipsum dolor sit amet consectetur adipiscing elit pellentesque. Tempus imperdiet nulla malesuada pellentesque elit. Dis parturient montes nascetur ridiculus mus mauris vitae.  Pharetra vel turpis nunc eget lorem. Lectus proin nibh nisl condimentum id venenatis a condimentum vitae. Massa massa ultricies mi quis hendrerit dolor magna. Dignissim diam quis enim lobortis scelerisque fermentum. Sollicitudin aliquam ultrices sagittis orci a scelerisque. Proin sed libero enim sed faucibus turpis. Dolor magna eget est lorem ipsum dolor sit. Elit at imperdiet dui accumsan sit amet. Ultrices sagittis orci a scelerisque purus semper eget. Morbi tristique senectus et netus et malesuada fames ac turpis. Pulvinar sapien et ligula ullamcorper malesuada proin libero. At quis risus sed vulputate. Dignissim enim sit amet venenatis. Quam quisque id diam vel quam elementum pulvinar etiam non. Nullam eget felis eget nunc. Iaculis nunc sed augue lacus viverra. Ut placerat orci nulla pellentesque.  Quam lacus suspendisse faucibus interdum. Turpis tincidunt id aliquet risus. Tortor pretium viverra suspendisse potenti nullam ac tortor vitae. Dignissim sodales ut eu sem integer vitae justo eget magna. Volutpat blandit aliquam etiam erat velit scelerisque in dictum. Pretium quam vulputate dignissim suspendisse in est ante in. Eros donec ac odio tempor orci dapibus. Dolor sit amet consectetur adipiscing elit ut. Purus ut faucibus pulvinar elementum integer enim. Adipiscing at in tellus integer feugiat scelerisque varius morbi enim. Velit egestas dui id ornare arcu odio ut sem. Pellentesque massa placerat duis ultricies lacus sed turpis tincidunt id. In hac habitasse platea dictumst vestibulum rhoncus est. Sit amet nisl suscipit adipiscing bibendum. Cras fermentum odio eu feugiat. Lectus sit amet est placerat in egestas. Eu facilisis sed odio morbi quis.  Nec tincidunt praesent semper feugiat nibh sed. Tortor consequat id porta nibh venenatis cras sed felis eget. Morbi blandit cursus risus at ultrices mi tempus imperdiet nulla. Iaculis nunc sed augue lacus viverra vitae congue. Iaculis urna id volutpat lacus laoreet non curabitur gravida arcu. Consectetur libero id faucibus nisl tincidunt eget nullam non. Arcu risus quis varius quam. Nunc pulvinar sapien et ligula ullamcorper malesuada proin libero. Dolor sit amet consectetur adipiscing elit pellentesque habitant. Integer feugiat scelerisque varius morbi enim nunc. In nibh mauris cursus mattis molestie a iaculis. Libero nunc consequat interdum varius sit amet mattis. Nullam ac tortor vitae purus faucibus ornare suspendisse sed.  Arcu non odio euismod lacinia at quis risus sed. Cursus risus at ultrices mi tempus imperdiet nulla malesuada pellentesque. Condimentum mattis pellentesque id nibh. Morbi tincidunt ornare massa eget egestas. Urna molestie at elementum eu facilisis sed odio. Lorem sed risus ultricies tristique nulla. Urna condimentum mattis pellentesque id nibh. Vitae sapien pellentesque habitant morbi tristique senectus et netus et. Consectetur adipiscing elit pellentesque habitant. Etiam erat velit scelerisque in dictum. Porta nibh venenatis cras sed felis eget velit. Odio eu feugiat pretium nibh ipsum consequat nisl. A cras semper auctor neque vitae tempus quam. Cras semper auctor neque vitae. Pharetra pharetra massa massa ultricies mi quis hendrerit. Vel pretium lectus quam id leo in vitae turpis massa.\n",
            "[INFO] tmp files are cleaned up\n",
            "1.Hide a message in video 2.Reveal the secret from video\n",
            "any other value to exit\n"
          ],
          "name": "stdout"
        }
      ]
    }
  ]
}