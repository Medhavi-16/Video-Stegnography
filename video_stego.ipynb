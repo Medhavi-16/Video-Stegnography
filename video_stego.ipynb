{
  "nbformat": 4,
  "nbformat_minor": 0,
  "metadata": {
    "colab": {
      "name": "video-stego.ipynb",
      "provenance": [],
      "include_colab_link": true
    },
    "kernelspec": {
      "name": "python3",
      "display_name": "Python 3"
    },
    "language_info": {
      "name": "python"
    }
  },
  "cells": [
    {
      "cell_type": "markdown",
      "metadata": {
        "id": "view-in-github",
        "colab_type": "text"
      },
      "source": [
        "<a href=\"https://colab.research.google.com/github/Medhavi-16/Video-Stegnography/blob/main/video_stego.ipynb\" target=\"_parent\"><img src=\"https://colab.research.google.com/assets/colab-badge.svg\" alt=\"Open In Colab\"/></a>"
      ]
    },
    {
      "cell_type": "code",
      "metadata": {
        "colab": {
          "base_uri": "https://localhost:8080/",
          "height": 731
        },
        "id": "af0nglog1lw3",
        "outputId": "c863fe04-5256-4640-aaab-f735a2b4af43"
      },
      "source": [
        "!pip install stegano\n",
        "!pip install pyaes\n",
        "!pip install pbkdf2"
      ],
      "execution_count": null,
      "outputs": [
        {
          "output_type": "stream",
          "text": [
            "Collecting stegano\n",
            "\u001b[?25l  Downloading https://files.pythonhosted.org/packages/ad/9f/fe37b384374b730d43cb1d8ea520422d58149ed92b9bb6954017de99505a/stegano-0.9.8-py3-none-any.whl (300kB)\n",
            "\u001b[K     |████████████████████████████████| 307kB 6.6MB/s \n",
            "\u001b[?25hCollecting pillow<7.0.0,>=6.2.1\n",
            "\u001b[?25l  Downloading https://files.pythonhosted.org/packages/c3/3f/03375124676ab49ca6e6917c0f1f663afb8354d5d24e12f4fe4587a39ae2/Pillow-6.2.2-cp37-cp37m-manylinux1_x86_64.whl (2.1MB)\n",
            "\u001b[K     |████████████████████████████████| 2.1MB 18.7MB/s \n",
            "\u001b[?25hCollecting crayons<0.4.0,>=0.3.0\n",
            "  Downloading https://files.pythonhosted.org/packages/a6/19/185ee40d06e3b67f9e92c45cc6ff30f4573f610a8b575e4a02629a34705a/crayons-0.3.1-py2.py3-none-any.whl\n",
            "Collecting piexif<2.0.0,>=1.1.3\n",
            "  Downloading https://files.pythonhosted.org/packages/2c/d8/6f63147dd73373d051c5eb049ecd841207f898f50a5a1d4378594178f6cf/piexif-1.1.3-py2.py3-none-any.whl\n",
            "Collecting colorama\n",
            "  Downloading https://files.pythonhosted.org/packages/44/98/5b86278fbbf250d239ae0ecb724f8572af1c91f4a11edf4d36a206189440/colorama-0.4.4-py2.py3-none-any.whl\n",
            "\u001b[31mERROR: bokeh 2.3.1 has requirement pillow>=7.1.0, but you'll have pillow 6.2.2 which is incompatible.\u001b[0m\n",
            "\u001b[31mERROR: albumentations 0.1.12 has requirement imgaug<0.2.7,>=0.2.5, but you'll have imgaug 0.2.9 which is incompatible.\u001b[0m\n",
            "Installing collected packages: pillow, colorama, crayons, piexif, stegano\n",
            "  Found existing installation: Pillow 7.1.2\n",
            "    Uninstalling Pillow-7.1.2:\n",
            "      Successfully uninstalled Pillow-7.1.2\n",
            "Successfully installed colorama-0.4.4 crayons-0.3.1 piexif-1.1.3 pillow-6.2.2 stegano-0.9.8\n"
          ],
          "name": "stdout"
        },
        {
          "output_type": "display_data",
          "data": {
            "application/vnd.colab-display-data+json": {
              "pip_warning": {
                "packages": [
                  "PIL"
                ]
              }
            }
          },
          "metadata": {
            "tags": []
          }
        },
        {
          "output_type": "stream",
          "text": [
            "Collecting pyaes\n",
            "  Downloading https://files.pythonhosted.org/packages/44/66/2c17bae31c906613795711fc78045c285048168919ace2220daa372c7d72/pyaes-1.6.1.tar.gz\n",
            "Building wheels for collected packages: pyaes\n",
            "  Building wheel for pyaes (setup.py) ... \u001b[?25l\u001b[?25hdone\n",
            "  Created wheel for pyaes: filename=pyaes-1.6.1-cp37-none-any.whl size=26346 sha256=bed7bce08704cb8ddc7203c31257478557bbf227918e5b5d6415642cb2ce5e23\n",
            "  Stored in directory: /root/.cache/pip/wheels/bd/cf/7b/ced9e8f28c50ed666728e8ab178ffedeb9d06f6a10f85d6432\n",
            "Successfully built pyaes\n",
            "Installing collected packages: pyaes\n",
            "Successfully installed pyaes-1.6.1\n",
            "Collecting pbkdf2\n",
            "  Downloading https://files.pythonhosted.org/packages/02/c0/6a2376ae81beb82eda645a091684c0b0becb86b972def7849ea9066e3d5e/pbkdf2-1.3.tar.gz\n",
            "Building wheels for collected packages: pbkdf2\n",
            "  Building wheel for pbkdf2 (setup.py) ... \u001b[?25l\u001b[?25hdone\n",
            "  Created wheel for pbkdf2: filename=pbkdf2-1.3-cp37-none-any.whl size=5104 sha256=8f6f6531929ebe73f1e9c3598e65bed67803ab54ee482c5d8bd2f9df06f8f3d6\n",
            "  Stored in directory: /root/.cache/pip/wheels/8e/62/b9/0bf3a68f2111e169253ec4d2bbdc303c46777b7fc99bbbf230\n",
            "Successfully built pbkdf2\n",
            "Installing collected packages: pbkdf2\n",
            "Successfully installed pbkdf2-1.3\n"
          ],
          "name": "stdout"
        }
      ]
    },
    {
      "cell_type": "code",
      "metadata": {
        "colab": {
          "base_uri": "https://localhost:8080/"
        },
        "id": "HkrwZESqA9XI",
        "outputId": "bd08c2bd-8edb-4fa5-be2e-ba7ef1d7713a"
      },
      "source": [
        "import pyaes, pbkdf2, binascii, os, secrets\n",
        "password = \"s3cr3t*c0d3\"\n",
        "passwordSalt = os.urandom(16)\n",
        "key = pbkdf2.PBKDF2(password, passwordSalt).read(32)\n",
        "print('AES encryption key:', binascii.hexlify(key))\n",
        "iv = secrets.randbits(256)"
      ],
      "execution_count": 1,
      "outputs": [
        {
          "output_type": "stream",
          "text": [
            "AES encryption key: b'f986a760e9bcd91c89b45ff84ae9d143ea12fb25ad8dec6a847fe7abc2e8863c'\n"
          ],
          "name": "stdout"
        }
      ]
    },
    {
      "cell_type": "code",
      "metadata": {
        "id": "Y5ITIN6c1aYJ",
        "colab": {
          "base_uri": "https://localhost:8080/",
          "height": 527
        },
        "outputId": "7bca23dd-23f7-4a90-de49-5fa7f48ecde4"
      },
      "source": [
        "from stegano import lsb\n",
        "from os.path import isfile,join\n",
        "\n",
        "import time    \n",
        "import cv2\n",
        "import numpy as np\n",
        "import math\n",
        "import os\n",
        "import shutil\n",
        "from subprocess import call,STDOUT\n",
        "import zlib\n",
        "\n",
        "def split_string(s_str,count=10):\n",
        "    per_c=math.ceil(len(s_str)/count)\n",
        "    c_cout=0\n",
        "    out_str=''\n",
        "    split_list=[]\n",
        "    for s in s_str:\n",
        "        out_str+=s\n",
        "        c_cout+=1\n",
        "        if c_cout == per_c:\n",
        "            split_list.append(out_str)\n",
        "            out_str=''\n",
        "            c_cout=0\n",
        "    if c_cout!=0:\n",
        "        split_list.append(out_str)\n",
        "    return split_list\n",
        "\n",
        "def frame_extraction(video):\n",
        "    if not os.path.exists(\"./tmp\"):\n",
        "        os.makedirs(\"tmp\")\n",
        "    temp_folder=\"./tmp\"\n",
        "    print(\"[INFO] tmp directory is created\")\n",
        "\n",
        "    vidcap = cv2.VideoCapture(video)\n",
        "    count = 0\n",
        "\n",
        "    while True:\n",
        "        success, image = vidcap.read()\n",
        "        if not success:\n",
        "            break\n",
        "        cv2.imwrite(os.path.join(temp_folder, \"{:d}.png\".format(count)), image)\n",
        "        count += 1\n",
        "\n",
        "\n",
        "def compress(s_str):\n",
        "    compressed_data=zlib.compress(s_str.encode('utf-8'),2)\n",
        "    compressed_data_text=binascii.hexlify(compressed_data).decode('utf-8')\n",
        "    return compressed_data_text\n",
        "\n",
        "def decompress(s_str):\n",
        "    decompressed_data=zlib.decompress(binascii.unhexlify(s_str.encode('utf-8'))).decode('utf-8')\n",
        "    return decompressed_data\n",
        "\n",
        "def encrypt(s_str):\n",
        "    plaintext = s_str\n",
        "    aes = pyaes.AESModeOfOperationCTR(key, pyaes.Counter(iv))\n",
        "    ciphertext = aes.encrypt(plaintext)\n",
        "    ans=binascii.hexlify(ciphertext)\n",
        "    print('Encrypted:', ans)\n",
        "    print(type(ans))\n",
        "    ans1=ans.decode('utf-8')\n",
        "    print(ans1)\n",
        "    print(type(ans1))\n",
        "    return ans1\n",
        "\n",
        "\n",
        "def decrypt(s_str):\n",
        "    aes = pyaes.AESModeOfOperationCTR(key, pyaes.Counter(iv))\n",
        "    decrypted = aes.decrypt(binascii.unhexlify(s_str.encode('utf-8')))\n",
        "    print('Decrypted:', decrypted)\n",
        "    return decrypted.decode('utf-8')\n",
        "    \n",
        "def encode_string(input_string,root=\"./tmp/\"):\n",
        "    ans=compress(input_string)\n",
        "    ans=encrypt(ans)\n",
        "    split_string_list=split_string(ans)\n",
        "    for i in range(0,len(split_string_list)):\n",
        "        f_name=\"{}{}.png\".format(root,i)\n",
        "        secret_enc=lsb.hide(f_name,split_string_list[i])\n",
        "        secret_enc.save(f_name)\n",
        "        print(\"[INFO] frame {} holds {}\".format(f_name,split_string_list[i]))\n",
        "def decode_string(video):\n",
        "    frame_extraction(video)\n",
        "    secret=[]\n",
        "    root=\"./tmp/\"\n",
        "    for i in range(len(os.listdir(root))):\n",
        "        f_name=\"{}{}.png\".format(root,i)\n",
        "        secret_dec=lsb.reveal(f_name)\n",
        "        if secret_dec == None:\n",
        "            break\n",
        "        secret.append(secret_dec)\n",
        "    \n",
        "    s_str = ''.join([i for i in secret])\n",
        "    print(decompress(decrypt(s_str)))\n",
        "    clean_tmp()\n",
        "\n",
        "def clean_tmp(path=\"./tmp\"):\n",
        "    if os.path.exists(path):\n",
        "        shutil.rmtree(path)\n",
        "        print(\"[INFO] tmp files are cleaned up\")\n",
        "\n",
        "def main():\n",
        "    input_string = input(\"Enter the input string :\")\n",
        "    f_name=input(\"enter the name of video\")\n",
        "    frame_extraction(f_name)\n",
        "    call([\"ffmpeg\", \"-i\",f_name, \"-q:a\", \"0\", \"-map\", \"a\", \"tmp/audio.mp3\", \"-y\"],stdout=open(os.devnull, \"w\"), stderr=STDOUT)\n",
        "    \n",
        "    encode_string(input_string)\n",
        "    call([\"ffmpeg\", \"-i\", \"tmp/%d.png\" , \"-vcodec\", \"png\", \"tmp/video.mov\", \"-y\"],stdout=open(os.devnull, \"w\"), stderr=STDOUT)\n",
        "    \n",
        "    call([\"ffmpeg\", \"-i\", \"tmp/video.mov\", \"-i\", \"tmp/audio.mp3\", \"-codec\", \"copy\", \"video.mov\", \"-y\"],stdout=open(os.devnull, \"w\"), stderr=STDOUT)\n",
        "    clean_tmp()\n",
        "if __name__ == \"__main__\":\n",
        "    while True:\n",
        "        print(\"1.Hide a message in video 2.Reveal the secret from video\")\n",
        "        print(\"any other value to exit\")\n",
        "        choice = input()\n",
        "        if choice == '1':\n",
        "            main()\n",
        "        elif choice == '2':\n",
        "            decode_string(input(\"enter the name of video with extension\"))\n",
        "        else:\n",
        "            break"
      ],
      "execution_count": 5,
      "outputs": [
        {
          "output_type": "error",
          "ename": "KeyboardInterrupt",
          "evalue": "ignored",
          "traceback": [
            "\u001b[0;31m---------------------------------------------------------------------------\u001b[0m",
            "\u001b[0;31mKeyboardInterrupt\u001b[0m                         Traceback (most recent call last)",
            "\u001b[0;32m/usr/local/lib/python3.7/dist-packages/ipykernel/kernelbase.py\u001b[0m in \u001b[0;36m_input_request\u001b[0;34m(self, prompt, ident, parent, password)\u001b[0m\n\u001b[1;32m    728\u001b[0m             \u001b[0;32mtry\u001b[0m\u001b[0;34m:\u001b[0m\u001b[0;34m\u001b[0m\u001b[0;34m\u001b[0m\u001b[0m\n\u001b[0;32m--> 729\u001b[0;31m                 \u001b[0mident\u001b[0m\u001b[0;34m,\u001b[0m \u001b[0mreply\u001b[0m \u001b[0;34m=\u001b[0m \u001b[0mself\u001b[0m\u001b[0;34m.\u001b[0m\u001b[0msession\u001b[0m\u001b[0;34m.\u001b[0m\u001b[0mrecv\u001b[0m\u001b[0;34m(\u001b[0m\u001b[0mself\u001b[0m\u001b[0;34m.\u001b[0m\u001b[0mstdin_socket\u001b[0m\u001b[0;34m,\u001b[0m \u001b[0;36m0\u001b[0m\u001b[0;34m)\u001b[0m\u001b[0;34m\u001b[0m\u001b[0;34m\u001b[0m\u001b[0m\n\u001b[0m\u001b[1;32m    730\u001b[0m             \u001b[0;32mexcept\u001b[0m \u001b[0mException\u001b[0m\u001b[0;34m:\u001b[0m\u001b[0;34m\u001b[0m\u001b[0;34m\u001b[0m\u001b[0m\n",
            "\u001b[0;32m/usr/local/lib/python3.7/dist-packages/jupyter_client/session.py\u001b[0m in \u001b[0;36mrecv\u001b[0;34m(self, socket, mode, content, copy)\u001b[0m\n\u001b[1;32m    802\u001b[0m         \u001b[0;32mtry\u001b[0m\u001b[0;34m:\u001b[0m\u001b[0;34m\u001b[0m\u001b[0;34m\u001b[0m\u001b[0m\n\u001b[0;32m--> 803\u001b[0;31m             \u001b[0mmsg_list\u001b[0m \u001b[0;34m=\u001b[0m \u001b[0msocket\u001b[0m\u001b[0;34m.\u001b[0m\u001b[0mrecv_multipart\u001b[0m\u001b[0;34m(\u001b[0m\u001b[0mmode\u001b[0m\u001b[0;34m,\u001b[0m \u001b[0mcopy\u001b[0m\u001b[0;34m=\u001b[0m\u001b[0mcopy\u001b[0m\u001b[0;34m)\u001b[0m\u001b[0;34m\u001b[0m\u001b[0;34m\u001b[0m\u001b[0m\n\u001b[0m\u001b[1;32m    804\u001b[0m         \u001b[0;32mexcept\u001b[0m \u001b[0mzmq\u001b[0m\u001b[0;34m.\u001b[0m\u001b[0mZMQError\u001b[0m \u001b[0;32mas\u001b[0m \u001b[0me\u001b[0m\u001b[0;34m:\u001b[0m\u001b[0;34m\u001b[0m\u001b[0;34m\u001b[0m\u001b[0m\n",
            "\u001b[0;32m/usr/local/lib/python3.7/dist-packages/zmq/sugar/socket.py\u001b[0m in \u001b[0;36mrecv_multipart\u001b[0;34m(self, flags, copy, track)\u001b[0m\n\u001b[1;32m    582\u001b[0m         \"\"\"\n\u001b[0;32m--> 583\u001b[0;31m         \u001b[0mparts\u001b[0m \u001b[0;34m=\u001b[0m \u001b[0;34m[\u001b[0m\u001b[0mself\u001b[0m\u001b[0;34m.\u001b[0m\u001b[0mrecv\u001b[0m\u001b[0;34m(\u001b[0m\u001b[0mflags\u001b[0m\u001b[0;34m,\u001b[0m \u001b[0mcopy\u001b[0m\u001b[0;34m=\u001b[0m\u001b[0mcopy\u001b[0m\u001b[0;34m,\u001b[0m \u001b[0mtrack\u001b[0m\u001b[0;34m=\u001b[0m\u001b[0mtrack\u001b[0m\u001b[0;34m)\u001b[0m\u001b[0;34m]\u001b[0m\u001b[0;34m\u001b[0m\u001b[0;34m\u001b[0m\u001b[0m\n\u001b[0m\u001b[1;32m    584\u001b[0m         \u001b[0;31m# have first part already, only loop while more to receive\u001b[0m\u001b[0;34m\u001b[0m\u001b[0;34m\u001b[0m\u001b[0;34m\u001b[0m\u001b[0m\n",
            "\u001b[0;32mzmq/backend/cython/socket.pyx\u001b[0m in \u001b[0;36mzmq.backend.cython.socket.Socket.recv\u001b[0;34m()\u001b[0m\n",
            "\u001b[0;32mzmq/backend/cython/socket.pyx\u001b[0m in \u001b[0;36mzmq.backend.cython.socket.Socket.recv\u001b[0;34m()\u001b[0m\n",
            "\u001b[0;32mzmq/backend/cython/socket.pyx\u001b[0m in \u001b[0;36mzmq.backend.cython.socket._recv_copy\u001b[0;34m()\u001b[0m\n",
            "\u001b[0;32m/usr/local/lib/python3.7/dist-packages/zmq/backend/cython/checkrc.pxd\u001b[0m in \u001b[0;36mzmq.backend.cython.checkrc._check_rc\u001b[0;34m()\u001b[0m\n",
            "\u001b[0;31mKeyboardInterrupt\u001b[0m: ",
            "\nDuring handling of the above exception, another exception occurred:\n",
            "\u001b[0;31mKeyboardInterrupt\u001b[0m                         Traceback (most recent call last)",
            "\u001b[0;32m<ipython-input-5-f22160d807f5>\u001b[0m in \u001b[0;36m<module>\u001b[0;34m()\u001b[0m\n\u001b[1;32m    116\u001b[0m         \u001b[0mprint\u001b[0m\u001b[0;34m(\u001b[0m\u001b[0;34m\"1.Hide a message in video 2.Reveal the secret from video\"\u001b[0m\u001b[0;34m)\u001b[0m\u001b[0;34m\u001b[0m\u001b[0;34m\u001b[0m\u001b[0m\n\u001b[1;32m    117\u001b[0m         \u001b[0mprint\u001b[0m\u001b[0;34m(\u001b[0m\u001b[0;34m\"any other value to exit\"\u001b[0m\u001b[0;34m)\u001b[0m\u001b[0;34m\u001b[0m\u001b[0;34m\u001b[0m\u001b[0m\n\u001b[0;32m--> 118\u001b[0;31m         \u001b[0mchoice\u001b[0m \u001b[0;34m=\u001b[0m \u001b[0minput\u001b[0m\u001b[0;34m(\u001b[0m\u001b[0;34m)\u001b[0m\u001b[0;34m\u001b[0m\u001b[0;34m\u001b[0m\u001b[0m\n\u001b[0m\u001b[1;32m    119\u001b[0m         \u001b[0;32mif\u001b[0m \u001b[0mchoice\u001b[0m \u001b[0;34m==\u001b[0m \u001b[0;34m'1'\u001b[0m\u001b[0;34m:\u001b[0m\u001b[0;34m\u001b[0m\u001b[0;34m\u001b[0m\u001b[0m\n\u001b[1;32m    120\u001b[0m             \u001b[0mmain\u001b[0m\u001b[0;34m(\u001b[0m\u001b[0;34m)\u001b[0m\u001b[0;34m\u001b[0m\u001b[0;34m\u001b[0m\u001b[0m\n",
            "\u001b[0;32m/usr/local/lib/python3.7/dist-packages/ipykernel/kernelbase.py\u001b[0m in \u001b[0;36mraw_input\u001b[0;34m(self, prompt)\u001b[0m\n\u001b[1;32m    702\u001b[0m             \u001b[0mself\u001b[0m\u001b[0;34m.\u001b[0m\u001b[0m_parent_ident\u001b[0m\u001b[0;34m,\u001b[0m\u001b[0;34m\u001b[0m\u001b[0;34m\u001b[0m\u001b[0m\n\u001b[1;32m    703\u001b[0m             \u001b[0mself\u001b[0m\u001b[0;34m.\u001b[0m\u001b[0m_parent_header\u001b[0m\u001b[0;34m,\u001b[0m\u001b[0;34m\u001b[0m\u001b[0;34m\u001b[0m\u001b[0m\n\u001b[0;32m--> 704\u001b[0;31m             \u001b[0mpassword\u001b[0m\u001b[0;34m=\u001b[0m\u001b[0;32mFalse\u001b[0m\u001b[0;34m,\u001b[0m\u001b[0;34m\u001b[0m\u001b[0;34m\u001b[0m\u001b[0m\n\u001b[0m\u001b[1;32m    705\u001b[0m         )\n\u001b[1;32m    706\u001b[0m \u001b[0;34m\u001b[0m\u001b[0m\n",
            "\u001b[0;32m/usr/local/lib/python3.7/dist-packages/ipykernel/kernelbase.py\u001b[0m in \u001b[0;36m_input_request\u001b[0;34m(self, prompt, ident, parent, password)\u001b[0m\n\u001b[1;32m    732\u001b[0m             \u001b[0;32mexcept\u001b[0m \u001b[0mKeyboardInterrupt\u001b[0m\u001b[0;34m:\u001b[0m\u001b[0;34m\u001b[0m\u001b[0;34m\u001b[0m\u001b[0m\n\u001b[1;32m    733\u001b[0m                 \u001b[0;31m# re-raise KeyboardInterrupt, to truncate traceback\u001b[0m\u001b[0;34m\u001b[0m\u001b[0;34m\u001b[0m\u001b[0;34m\u001b[0m\u001b[0m\n\u001b[0;32m--> 734\u001b[0;31m                 \u001b[0;32mraise\u001b[0m \u001b[0mKeyboardInterrupt\u001b[0m\u001b[0;34m\u001b[0m\u001b[0;34m\u001b[0m\u001b[0m\n\u001b[0m\u001b[1;32m    735\u001b[0m             \u001b[0;32melse\u001b[0m\u001b[0;34m:\u001b[0m\u001b[0;34m\u001b[0m\u001b[0;34m\u001b[0m\u001b[0m\n\u001b[1;32m    736\u001b[0m                 \u001b[0;32mbreak\u001b[0m\u001b[0;34m\u001b[0m\u001b[0;34m\u001b[0m\u001b[0m\n",
            "\u001b[0;31mKeyboardInterrupt\u001b[0m: "
          ]
        }
      ]
    }
  ]
}