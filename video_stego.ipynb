{
  "nbformat": 4,
  "nbformat_minor": 0,
  "metadata": {
    "colab": {
      "name": "video-stego.ipynb",
      "provenance": [],
      "include_colab_link": true
    },
    "kernelspec": {
      "name": "python3",
      "display_name": "Python 3"
    },
    "language_info": {
      "name": "python"
    }
  },
  "cells": [
    {
      "cell_type": "markdown",
      "metadata": {
        "id": "view-in-github",
        "colab_type": "text"
      },
      "source": [
        "<a href=\"https://colab.research.google.com/github/Medhavi-16/Video-Stegnography/blob/main/video_stego.ipynb\" target=\"_parent\"><img src=\"https://colab.research.google.com/assets/colab-badge.svg\" alt=\"Open In Colab\"/></a>"
      ]
    },
    {
      "cell_type": "code",
      "metadata": {
        "id": "af0nglog1lw3"
      },
      "source": [
        "!pip install stegano\n",
        "!pip install pyaes\n",
        "!pip install pbkdf2"
      ],
      "execution_count": null,
      "outputs": []
    },
    {
      "cell_type": "code",
      "metadata": {
        "colab": {
          "base_uri": "https://localhost:8080/"
        },
        "id": "HkrwZESqA9XI",
        "outputId": "bd08c2bd-8edb-4fa5-be2e-ba7ef1d7713a"
      },
      "source": [
        "import pyaes, pbkdf2, binascii, os, secrets\n",
        "password = \"s3cr3t*c0d3\"\n",
        "passwordSalt = os.urandom(16)\n",
        "key = pbkdf2.PBKDF2(password, passwordSalt).read(32)\n",
        "print('AES encryption key:', binascii.hexlify(key))\n",
        "iv = secrets.randbits(256)"
      ],
      "execution_count": null,
      "outputs": [
        {
          "output_type": "stream",
          "text": [
            "AES encryption key: b'f986a760e9bcd91c89b45ff84ae9d143ea12fb25ad8dec6a847fe7abc2e8863c'\n"
          ],
          "name": "stdout"
        }
      ]
    },
    {
      "cell_type": "code",
      "metadata": {
        "id": "Y5ITIN6c1aYJ"
      },
      "source": [
        "from stegano import lsb\n",
        "from os.path import isfile,join\n",
        "\n",
        "import time    \n",
        "import cv2\n",
        "import numpy as np\n",
        "import math\n",
        "import os\n",
        "import shutil\n",
        "from subprocess import call,STDOUT\n",
        "import zlib\n",
        "\n",
        "def split_string(s_str,count=10):\n",
        "    per_c=math.ceil(len(s_str)/count)\n",
        "    c_cout=0\n",
        "    out_str=''\n",
        "    split_list=[]\n",
        "    for s in s_str:\n",
        "        out_str+=s\n",
        "        c_cout+=1\n",
        "        if c_cout == per_c:\n",
        "            split_list.append(out_str)\n",
        "            out_str=''\n",
        "            c_cout=0\n",
        "    if c_cout!=0:\n",
        "        split_list.append(out_str)\n",
        "    return split_list\n",
        "\n",
        "def frame_extraction(video):\n",
        "    if not os.path.exists(\"./tmp\"):\n",
        "        os.makedirs(\"tmp\")\n",
        "    temp_folder=\"./tmp\"\n",
        "    print(\"[INFO] tmp directory is created\")\n",
        "\n",
        "    vidcap = cv2.VideoCapture(video)\n",
        "    count = 0\n",
        "\n",
        "    while True:\n",
        "        success, image = vidcap.read()\n",
        "        if not success:\n",
        "            break\n",
        "        cv2.imwrite(os.path.join(temp_folder, \"{:d}.png\".format(count)), image)\n",
        "        count += 1\n",
        "\n",
        "\n",
        "def compress(s_str):\n",
        "    compressed_data=zlib.compress(s_str.encode('utf-8'),2)\n",
        "    compressed_data_text=binascii.hexlify(compressed_data).decode('utf-8')\n",
        "    return compressed_data_text\n",
        "\n",
        "def decompress(s_str):\n",
        "    decompressed_data=zlib.decompress(binascii.unhexlify(s_str.encode('utf-8'))).decode('utf-8')\n",
        "    return decompressed_data\n",
        "\n",
        "def encrypt(s_str):\n",
        "    plaintext = s_str\n",
        "    aes = pyaes.AESModeOfOperationCTR(key, pyaes.Counter(iv))\n",
        "    ciphertext = aes.encrypt(plaintext)\n",
        "    ans=binascii.hexlify(ciphertext)\n",
        "    print('Encrypted:', ans)\n",
        "    print(type(ans))\n",
        "    ans1=ans.decode('utf-8')\n",
        "    print(ans1)\n",
        "    print(type(ans1))\n",
        "    return ans1\n",
        "\n",
        "\n",
        "def decrypt(s_str):\n",
        "    aes = pyaes.AESModeOfOperationCTR(key, pyaes.Counter(iv))\n",
        "    decrypted = aes.decrypt(binascii.unhexlify(s_str.encode('utf-8')))\n",
        "    print('Decrypted:', decrypted)\n",
        "    return decrypted.decode('utf-8')\n",
        "    \n",
        "def encode_string(input_string,root=\"./tmp/\"):\n",
        "    ans=compress(input_string)\n",
        "    ans=encrypt(ans)\n",
        "    split_string_list=split_string(ans)\n",
        "    for i in range(0,len(split_string_list)):\n",
        "        f_name=\"{}{}.png\".format(root,i)\n",
        "        secret_enc=lsb.hide(f_name,split_string_list[i])\n",
        "        secret_enc.save(f_name)\n",
        "        print(\"[INFO] frame {} holds {}\".format(f_name,split_string_list[i]))\n",
        "def decode_string(video):\n",
        "    frame_extraction(video)\n",
        "    secret=[]\n",
        "    root=\"./tmp/\"\n",
        "    for i in range(len(os.listdir(root))):\n",
        "        f_name=\"{}{}.png\".format(root,i)\n",
        "        secret_dec=lsb.reveal(f_name)\n",
        "        if secret_dec == None:\n",
        "            break\n",
        "        secret.append(secret_dec)\n",
        "    \n",
        "    s_str = ''.join([i for i in secret])\n",
        "    print(decompress(decrypt(s_str)))\n",
        "    clean_tmp()\n",
        "\n",
        "def clean_tmp(path=\"./tmp\"):\n",
        "    if os.path.exists(path):\n",
        "        shutil.rmtree(path)\n",
        "        print(\"[INFO] tmp files are cleaned up\")\n",
        "\n",
        "def main():\n",
        "    input_string = input(\"Enter the input string :\")\n",
        "    f_name=input(\"enter the name of video\")\n",
        "    frame_extraction(f_name)\n",
        "    call([\"ffmpeg\", \"-i\",f_name, \"-q:a\", \"0\", \"-map\", \"a\", \"tmp/audio.mp3\", \"-y\"],stdout=open(os.devnull, \"w\"), stderr=STDOUT)\n",
        "    \n",
        "    encode_string(input_string)\n",
        "    call([\"ffmpeg\", \"-i\", \"tmp/%d.png\" , \"-vcodec\", \"png\", \"tmp/video.mov\", \"-y\"],stdout=open(os.devnull, \"w\"), stderr=STDOUT)\n",
        "    \n",
        "    call([\"ffmpeg\", \"-i\", \"tmp/video.mov\", \"-i\", \"tmp/audio.mp3\", \"-codec\", \"copy\", \"video.mov\", \"-y\"],stdout=open(os.devnull, \"w\"), stderr=STDOUT)\n",
        "    clean_tmp()\n",
        "if __name__ == \"__main__\":\n",
        "    while True:\n",
        "        print(\"1.Hide a message in video 2.Reveal the secret from video\")\n",
        "        print(\"any other value to exit\")\n",
        "        choice = input()\n",
        "        if choice == '1':\n",
        "            main()\n",
        "        elif choice == '2':\n",
        "            decode_string(input(\"enter the name of video with extension\"))\n",
        "        else:\n",
        "            break"
      ],
      "execution_count": null,
      "outputs": []
    }
  ]
}